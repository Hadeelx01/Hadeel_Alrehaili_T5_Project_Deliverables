{
 "cells": [
  {
   "cell_type": "markdown",
   "metadata": {},
   "source": [
    "# <font  size=\"6\" color='7A4CDE'> <b>Detecting Malicious and Benign Webpages </b></font> "
   ]
  },
  {
   "cell_type": "markdown",
   "metadata": {},
   "source": [
    "\n",
    "------------------\n",
    "<font  size=\"6\" color='7A4CDE'> <b>Overview </b></font> \n",
    "\n",
    "The goal of this project is to determine which pages that may be malicious based on the features of each pages. To achieving this goal, i started by loading the data to start understanded and do some cleaning and looking for which factors are most important in order to best classify pages,Also doing some visualization like heat map and pie chart to gain further insight.\n",
    "\n",
    "\n",
    "* please open the file in jupyter notebook to see it in full format\n",
    "--------------\n"
   ]
  },
  {
   "cell_type": "markdown",
   "metadata": {},
   "source": [
    "\n",
    "<font  size=\"4\" color='7A4CDE'> <b>Attributes of My Dataset </b></font> \n",
    "\n",
    "<font  size=\"2\" color='7A4CDE'>1.</font>   <font  size=\"2\" color='black'> url: URL of the Webpage.\n",
    "    </font>\t\n",
    "\n",
    "<font  size=\"2\" color='7A4CDE'> 2.</font>   <font  size=\"2\" color='black'> url_len: Length of URL (count of characters in a URL).</font>\t\n",
    "\n",
    "<font  size=\"2\" color='7A4CDE'> 3.</font>   <font  size=\"2\" color='black'>ip_add: IP Address of the webpage.</font>\t\n",
    "\n",
    "<font  size=\"2\" color='7A4CDE'> 4.</font>   <font  size=\"2\" color='black'> geo_loc: Name of the country based on IP Address location.</font>\t\n",
    "\n",
    "<font  size=\"2\" color='7A4CDE'> 5.</font>   <font  size=\"2\" color='black'> tld: Top Level Domain of the webpage.</font>\t\n",
    "\n",
    "<font  size=\"2\" color='7A4CDE'> 6.</font>   <font  size=\"2\" color='black'> who_is: Gives out whether the WHO IS information of the registered domain is complete or incomplete.</font>\t\n",
    "\n",
    "<font  size=\"2\" color='7A4CDE'> 7.</font>   <font  size=\"2\" color='black'> https:\tGives out whether the website uses https or http protocol.</font>\t\n",
    "\n",
    "<font  size=\"2\" color='7A4CDE'> 8.</font>   <font  size=\"2\" color='black'> js_len: Length of JavaScript code (in KB) in the webpage.</font>\t\n",
    "\n",
    "<font  size=\"2\" color='7A4CDE'> 9.</font>   <font  size=\"2\" color='black'> js_obf_len: Length of Obfuscated JavaScript (in KB) in the webpage.</font>\t\n",
    "\n",
    "\n",
    "<font  size=\"2\" color='7A4CDE'> 10.</font>   <font  size=\"2\" color='black'> label: Classification label categorizing the webpage class as Malicious (bad) or Benign (good).</font>\t\n",
    "\n",
    "-----------------------------------"
   ]
  },
  {
   "cell_type": "code",
   "execution_count": 71,
   "metadata": {},
   "outputs": [],
   "source": [
    "import pandas as pd\n",
    "import numpy as np\n",
    "import matplotlib.pyplot as plt\n",
    "import seaborn as sns"
   ]
  },
  {
   "cell_type": "code",
   "execution_count": 96,
   "metadata": {
    "scrolled": true
   },
   "outputs": [],
   "source": [
    "Data = pd.read_excel(r\"C:\\Users\\96655\\Desktop\\MVP\\Webpages_Dataset.xlsx\")"
   ]
  },
  {
   "cell_type": "code",
   "execution_count": 97,
   "metadata": {},
   "outputs": [
    {
     "data": {
      "text/html": [
       "<div>\n",
       "<style scoped>\n",
       "    .dataframe tbody tr th:only-of-type {\n",
       "        vertical-align: middle;\n",
       "    }\n",
       "\n",
       "    .dataframe tbody tr th {\n",
       "        vertical-align: top;\n",
       "    }\n",
       "\n",
       "    .dataframe thead th {\n",
       "        text-align: right;\n",
       "    }\n",
       "</style>\n",
       "<table border=\"1\" class=\"dataframe\">\n",
       "  <thead>\n",
       "    <tr style=\"text-align: right;\">\n",
       "      <th></th>\n",
       "      <th>url_len</th>\n",
       "      <th>url</th>\n",
       "      <th>ip_add</th>\n",
       "      <th>geo_loc</th>\n",
       "      <th>tld</th>\n",
       "      <th>who_is</th>\n",
       "      <th>https</th>\n",
       "      <th>js_len</th>\n",
       "      <th>js_obf_len</th>\n",
       "      <th>label</th>\n",
       "    </tr>\n",
       "  </thead>\n",
       "  <tbody>\n",
       "    <tr>\n",
       "      <th>0</th>\n",
       "      <td>32</td>\n",
       "      <td>http://members.tripod.com/russiastation/</td>\n",
       "      <td>211.229.153.97</td>\n",
       "      <td>South Korea</td>\n",
       "      <td>com</td>\n",
       "      <td>incomplete</td>\n",
       "      <td>yes</td>\n",
       "      <td>47.0</td>\n",
       "      <td>0.0</td>\n",
       "      <td>bad</td>\n",
       "    </tr>\n",
       "    <tr>\n",
       "      <th>1</th>\n",
       "      <td>37</td>\n",
       "      <td>http://www.ddj.com/cpp/184403822</td>\n",
       "      <td>161.11.77.63</td>\n",
       "      <td>United States</td>\n",
       "      <td>com</td>\n",
       "      <td>complete</td>\n",
       "      <td>yes</td>\n",
       "      <td>117.0</td>\n",
       "      <td>0.0</td>\n",
       "      <td>good</td>\n",
       "    </tr>\n",
       "    <tr>\n",
       "      <th>2</th>\n",
       "      <td>70</td>\n",
       "      <td>http://www.naef-usa.com/</td>\n",
       "      <td>210.198.43.183</td>\n",
       "      <td>NaN</td>\n",
       "      <td>com</td>\n",
       "      <td>incomplete</td>\n",
       "      <td>yes</td>\n",
       "      <td>144.0</td>\n",
       "      <td>0.0</td>\n",
       "      <td>bad</td>\n",
       "    </tr>\n",
       "    <tr>\n",
       "      <th>3</th>\n",
       "      <td>42</td>\n",
       "      <td>http://www.ff-b2b.de/</td>\n",
       "      <td>50.138.83.15</td>\n",
       "      <td>United States</td>\n",
       "      <td>com</td>\n",
       "      <td>complete</td>\n",
       "      <td>yes</td>\n",
       "      <td>72.5</td>\n",
       "      <td>0.0</td>\n",
       "      <td>good</td>\n",
       "    </tr>\n",
       "    <tr>\n",
       "      <th>4</th>\n",
       "      <td>37</td>\n",
       "      <td>http://us.imdb.com/title/tt0176269/</td>\n",
       "      <td>201.29.133.18</td>\n",
       "      <td>Brazil</td>\n",
       "      <td>com</td>\n",
       "      <td>complete</td>\n",
       "      <td>yes</td>\n",
       "      <td>59.0</td>\n",
       "      <td>0.0</td>\n",
       "      <td>bad</td>\n",
       "    </tr>\n",
       "  </tbody>\n",
       "</table>\n",
       "</div>"
      ],
      "text/plain": [
       "   url_len                                       url          ip_add  \\\n",
       "0       32  http://members.tripod.com/russiastation/  211.229.153.97   \n",
       "1       37          http://www.ddj.com/cpp/184403822    161.11.77.63   \n",
       "2       70                  http://www.naef-usa.com/  210.198.43.183   \n",
       "3       42                     http://www.ff-b2b.de/    50.138.83.15   \n",
       "4       37       http://us.imdb.com/title/tt0176269/   201.29.133.18   \n",
       "\n",
       "         geo_loc  tld      who_is https  js_len  js_obf_len label  \n",
       "0    South Korea  com  incomplete   yes    47.0         0.0   bad  \n",
       "1  United States  com    complete   yes   117.0         0.0  good  \n",
       "2            NaN  com  incomplete   yes   144.0         0.0   bad  \n",
       "3  United States  com    complete   yes    72.5         0.0  good  \n",
       "4         Brazil  com    complete   yes    59.0         0.0   bad  "
      ]
     },
     "execution_count": 97,
     "metadata": {},
     "output_type": "execute_result"
    }
   ],
   "source": [
    "## Observe the data to make sure it is properly loaded\n",
    "Data.head()"
   ]
  },
  {
   "cell_type": "code",
   "execution_count": 98,
   "metadata": {},
   "outputs": [
    {
     "name": "stdout",
     "output_type": "stream",
     "text": [
      "<class 'pandas.core.frame.DataFrame'>\n",
      "RangeIndex: 9999 entries, 0 to 9998\n",
      "Data columns (total 10 columns):\n",
      " #   Column      Non-Null Count  Dtype  \n",
      "---  ------      --------------  -----  \n",
      " 0   url_len     9999 non-null   int64  \n",
      " 1   url         9999 non-null   object \n",
      " 2   ip_add      9999 non-null   object \n",
      " 3   geo_loc     9933 non-null   object \n",
      " 4   tld         9999 non-null   object \n",
      " 5   who_is      9999 non-null   object \n",
      " 6   https       9999 non-null   object \n",
      " 7   js_len      9999 non-null   float64\n",
      " 8   js_obf_len  9999 non-null   float64\n",
      " 9   label       9999 non-null   object \n",
      "dtypes: float64(2), int64(1), object(7)\n",
      "memory usage: 781.3+ KB\n"
     ]
    }
   ],
   "source": [
    "# info give us summary of the date in glance\n",
    "# we can see we have 10 feature with 9999 data points, \n",
    "\n",
    "# in colums geo_loc we have null value\n",
    "# 7 colums are categorical\n",
    "# 3 Columns are numerical\n",
    "Data.info()"
   ]
  },
  {
   "cell_type": "markdown",
   "metadata": {},
   "source": [
    "# Data cleaning "
   ]
  },
  {
   "cell_type": "code",
   "execution_count": 99,
   "metadata": {
    "scrolled": true
   },
   "outputs": [
    {
     "data": {
      "text/plain": [
       "good    7979\n",
       "bad     2020\n",
       "Name: label, dtype: int64"
      ]
     },
     "execution_count": 99,
     "metadata": {},
     "output_type": "execute_result"
    }
   ],
   "source": [
    "# value_counts shows us how many value we have in each class\n",
    "Data['label'].value_counts()"
   ]
  },
  {
   "cell_type": "markdown",
   "metadata": {},
   "source": [
    "-------------------"
   ]
  },
  {
   "cell_type": "code",
   "execution_count": 100,
   "metadata": {},
   "outputs": [
    {
     "data": {
      "text/plain": [
       "66"
      ]
     },
     "execution_count": 100,
     "metadata": {},
     "output_type": "execute_result"
    }
   ],
   "source": [
    "Data['geo_loc'].isnull().sum()"
   ]
  },
  {
   "cell_type": "markdown",
   "metadata": {},
   "source": [
    " in column <font  size=\"2\" color='7A4CDE'> geo_loc, </font> there are 66 rows with null value, in this situation, imputing it with mode is not preferred because it will make wrong information and since the number of null rows is not so much, dropping the entire rows is the best chose."
   ]
  },
  {
   "cell_type": "code",
   "execution_count": 101,
   "metadata": {},
   "outputs": [],
   "source": [
    "Data = Data[Data['geo_loc'].notna()]"
   ]
  },
  {
   "cell_type": "code",
   "execution_count": 102,
   "metadata": {
    "scrolled": false
   },
   "outputs": [
    {
     "name": "stdout",
     "output_type": "stream",
     "text": [
      "<class 'pandas.core.frame.DataFrame'>\n",
      "Int64Index: 9933 entries, 0 to 9998\n",
      "Data columns (total 10 columns):\n",
      " #   Column      Non-Null Count  Dtype  \n",
      "---  ------      --------------  -----  \n",
      " 0   url_len     9933 non-null   int64  \n",
      " 1   url         9933 non-null   object \n",
      " 2   ip_add      9933 non-null   object \n",
      " 3   geo_loc     9933 non-null   object \n",
      " 4   tld         9933 non-null   object \n",
      " 5   who_is      9933 non-null   object \n",
      " 6   https       9933 non-null   object \n",
      " 7   js_len      9933 non-null   float64\n",
      " 8   js_obf_len  9933 non-null   float64\n",
      " 9   label       9933 non-null   object \n",
      "dtypes: float64(2), int64(1), object(7)\n",
      "memory usage: 853.6+ KB\n"
     ]
    }
   ],
   "source": [
    "Data.info()"
   ]
  },
  {
   "cell_type": "markdown",
   "metadata": {},
   "source": [
    "-------------------------------------------"
   ]
  },
  {
   "cell_type": "code",
   "execution_count": 103,
   "metadata": {},
   "outputs": [
    {
     "data": {
      "text/html": [
       "<div>\n",
       "<style scoped>\n",
       "    .dataframe tbody tr th:only-of-type {\n",
       "        vertical-align: middle;\n",
       "    }\n",
       "\n",
       "    .dataframe tbody tr th {\n",
       "        vertical-align: top;\n",
       "    }\n",
       "\n",
       "    .dataframe thead th {\n",
       "        text-align: right;\n",
       "    }\n",
       "</style>\n",
       "<table border=\"1\" class=\"dataframe\">\n",
       "  <thead>\n",
       "    <tr style=\"text-align: right;\">\n",
       "      <th></th>\n",
       "      <th>url_len</th>\n",
       "      <th>url</th>\n",
       "      <th>ip_add</th>\n",
       "      <th>geo_loc</th>\n",
       "      <th>tld</th>\n",
       "      <th>who_is</th>\n",
       "      <th>https</th>\n",
       "      <th>js_len</th>\n",
       "      <th>js_obf_len</th>\n",
       "      <th>label</th>\n",
       "    </tr>\n",
       "  </thead>\n",
       "  <tbody>\n",
       "    <tr>\n",
       "      <th>0</th>\n",
       "      <td>32</td>\n",
       "      <td>http://members.tripod.com/russiastation/</td>\n",
       "      <td>211.229.153.97</td>\n",
       "      <td>South Korea</td>\n",
       "      <td>com</td>\n",
       "      <td>incomplete</td>\n",
       "      <td>yes</td>\n",
       "      <td>47.0</td>\n",
       "      <td>0.0</td>\n",
       "      <td>bad</td>\n",
       "    </tr>\n",
       "    <tr>\n",
       "      <th>1</th>\n",
       "      <td>37</td>\n",
       "      <td>http://www.ddj.com/cpp/184403822</td>\n",
       "      <td>161.11.77.63</td>\n",
       "      <td>United States</td>\n",
       "      <td>com</td>\n",
       "      <td>complete</td>\n",
       "      <td>yes</td>\n",
       "      <td>117.0</td>\n",
       "      <td>0.0</td>\n",
       "      <td>good</td>\n",
       "    </tr>\n",
       "    <tr>\n",
       "      <th>3</th>\n",
       "      <td>42</td>\n",
       "      <td>http://www.ff-b2b.de/</td>\n",
       "      <td>50.138.83.15</td>\n",
       "      <td>United States</td>\n",
       "      <td>com</td>\n",
       "      <td>complete</td>\n",
       "      <td>yes</td>\n",
       "      <td>72.5</td>\n",
       "      <td>0.0</td>\n",
       "      <td>good</td>\n",
       "    </tr>\n",
       "    <tr>\n",
       "      <th>4</th>\n",
       "      <td>37</td>\n",
       "      <td>http://us.imdb.com/title/tt0176269/</td>\n",
       "      <td>201.29.133.18</td>\n",
       "      <td>Brazil</td>\n",
       "      <td>com</td>\n",
       "      <td>complete</td>\n",
       "      <td>yes</td>\n",
       "      <td>59.0</td>\n",
       "      <td>0.0</td>\n",
       "      <td>bad</td>\n",
       "    </tr>\n",
       "    <tr>\n",
       "      <th>5</th>\n",
       "      <td>25</td>\n",
       "      <td>http://efilmcritic.com/hbs.cgi?movie=311</td>\n",
       "      <td>148.7.184.189</td>\n",
       "      <td>Singapore</td>\n",
       "      <td>com</td>\n",
       "      <td>complete</td>\n",
       "      <td>no</td>\n",
       "      <td>166.0</td>\n",
       "      <td>0.0</td>\n",
       "      <td>good</td>\n",
       "    </tr>\n",
       "  </tbody>\n",
       "</table>\n",
       "</div>"
      ],
      "text/plain": [
       "   url_len                                       url          ip_add  \\\n",
       "0       32  http://members.tripod.com/russiastation/  211.229.153.97   \n",
       "1       37          http://www.ddj.com/cpp/184403822    161.11.77.63   \n",
       "3       42                     http://www.ff-b2b.de/    50.138.83.15   \n",
       "4       37       http://us.imdb.com/title/tt0176269/   201.29.133.18   \n",
       "5       25  http://efilmcritic.com/hbs.cgi?movie=311   148.7.184.189   \n",
       "\n",
       "         geo_loc  tld      who_is https  js_len  js_obf_len label  \n",
       "0    South Korea  com  incomplete   yes    47.0         0.0   bad  \n",
       "1  United States  com    complete   yes   117.0         0.0  good  \n",
       "3  United States  com    complete   yes    72.5         0.0  good  \n",
       "4         Brazil  com    complete   yes    59.0         0.0   bad  \n",
       "5      Singapore  com    complete    no   166.0         0.0  good  "
      ]
     },
     "execution_count": 103,
     "metadata": {},
     "output_type": "execute_result"
    }
   ],
   "source": [
    "Data.head()"
   ]
  },
  {
   "cell_type": "markdown",
   "metadata": {},
   "source": [
    "-------------------------"
   ]
  },
  {
   "cell_type": "markdown",
   "metadata": {},
   "source": [
    "\n",
    "#### Since Machine learning algorithms can not handle categorical variables, we need to encoding them."
   ]
  },
  {
   "cell_type": "code",
   "execution_count": 104,
   "metadata": {},
   "outputs": [
    {
     "data": {
      "text/plain": [
       "array(['yes', 'no'], dtype=object)"
      ]
     },
     "execution_count": 104,
     "metadata": {},
     "output_type": "execute_result"
    }
   ],
   "source": [
    "Data[\"https\"].unique()"
   ]
  },
  {
   "cell_type": "code",
   "execution_count": 105,
   "metadata": {},
   "outputs": [],
   "source": [
    "Data['https']=np.where(Data['https']=='yes',0,1)"
   ]
  },
  {
   "cell_type": "markdown",
   "metadata": {},
   "source": [
    "Encoding the https Attribute\n",
    "\n",
    "0 if the website with http protocol.\n",
    "\n",
    "1 if the webpage with https protocol\n",
    "\n",
    "\n",
    "----------------------"
   ]
  },
  {
   "cell_type": "code",
   "execution_count": 106,
   "metadata": {},
   "outputs": [
    {
     "data": {
      "text/plain": [
       "array(['incomplete', 'complete'], dtype=object)"
      ]
     },
     "execution_count": 106,
     "metadata": {},
     "output_type": "execute_result"
    }
   ],
   "source": [
    "Data[\"who_is\"].unique()"
   ]
  },
  {
   "cell_type": "code",
   "execution_count": 107,
   "metadata": {},
   "outputs": [],
   "source": [
    "Data['who_is']=np.where(Data['who_is']=='complete',0,1)"
   ]
  },
  {
   "cell_type": "markdown",
   "metadata": {},
   "source": [
    "Encoding the who_is Attribute\n",
    "\n",
    "0 if information of the registered domain is complete.\n",
    "\n",
    "1 if information of the registered domain is incomplete\n",
    "\n"
   ]
  },
  {
   "cell_type": "code",
   "execution_count": 108,
   "metadata": {},
   "outputs": [
    {
     "data": {
      "text/plain": [
       "array(['South Korea', 'United States', 'Brazil', 'Singapore',\n",
       "       'Switzerland', 'Portugal', 'Canada', 'China', 'Saudi Arabia',\n",
       "       'Taiwan', 'United Kingdom', 'Bermuda', 'Russia', 'France',\n",
       "       'Vietnam', 'Kenya', 'Venezuela', 'Luxembourg', 'Japan', 'Belgium',\n",
       "       'Philippines', 'Morocco', 'Czechia', 'Grenada', 'Denmark',\n",
       "       'Tunisia', 'Italy', 'Germany', 'Ireland', 'Hungary', 'Ghana',\n",
       "       'New Zealand', 'Australia', 'South Africa', 'Ecuador',\n",
       "       'United Arab Emirates', 'Egypt', 'Sri Lanka', 'Turkey', 'India',\n",
       "       'Netherlands', 'Sweden', 'Finland', 'Hong Kong', 'Costa Rica',\n",
       "       'Spain', 'Norway', 'Slovakia', 'Romania', 'Argentina', 'Indonesia',\n",
       "       'Israel', 'Republic of Moldova', 'Mexico', 'Poland', 'Pakistan',\n",
       "       'Ukraine', 'Algeria', 'Iran', 'Greece', 'Chile', 'Panama',\n",
       "       'Cyprus', 'Bangladesh', 'Austria', 'Serbia', 'Kazakhstan',\n",
       "       'Kyrgyzstan', 'Nigeria', 'Georgia', 'Hashemite Kingdom of Jordan',\n",
       "       'Nicaragua', 'Uruguay', 'Malaysia', 'Thailand', 'Colombia',\n",
       "       'Kuwait', 'Zambia', 'Liechtenstein', 'Paraguay', 'Malta',\n",
       "       'Bolivia', 'Ethiopia', 'Isle of Man', 'Palestine', 'Croatia',\n",
       "       'Puerto Rico', 'Albania', 'Malawi', 'Republic of Lithuania',\n",
       "       'Tanzania', 'Latvia', 'Cuba', 'Namibia', 'Cambodia', 'Bhutan',\n",
       "       'Liberia', 'Ivory Coast', 'Uganda', 'Bulgaria', 'Estonia',\n",
       "       'Armenia', 'Lebanon', 'Nepal', 'Senegal', 'Slovenia', 'Fiji',\n",
       "       'Macao', 'Azerbaijan', 'Mauritius', 'U.S. Virgin Islands',\n",
       "       'Angola', 'Seychelles', 'Cayman Islands', 'Peru',\n",
       "       'Bosnia and Herzegovina', 'Dominican Republic', 'Bahrain', 'Sudan',\n",
       "       'Zimbabwe', 'RÃ©union', 'Belarus', 'Rwanda', 'Ã…land', 'Togo',\n",
       "       'Qatar', 'Madagascar', 'Iceland', 'Guatemala', 'Mozambique',\n",
       "       'Belize', 'Gabon', 'Syria', 'Uzbekistan', 'French Polynesia',\n",
       "       'Barbados', 'CuraÃ§ao', 'Burkina Faso'], dtype=object)"
      ]
     },
     "execution_count": 108,
     "metadata": {},
     "output_type": "execute_result"
    }
   ],
   "source": [
    "Data['geo_loc'].unique()"
   ]
  },
  {
   "cell_type": "code",
   "execution_count": 109,
   "metadata": {},
   "outputs": [],
   "source": [
    "# encoding each geographical location with numerical encoding\n",
    "Data['geo_loc'] = Data['geo_loc'] .astype('category')\n",
    "Data['geo_loc'] = Data['geo_loc'].cat.codes"
   ]
  },
  {
   "cell_type": "code",
   "execution_count": 114,
   "metadata": {
    "scrolled": true
   },
   "outputs": [
    {
     "data": {
      "image/png": "[encoded data removed]",
      "text/plain": [
       "<Figure size 1440x720 with 1 Axes>"
      ]
     },
     "metadata": {
      "needs_background": "light"
     },
     "output_type": "display_data"
    }
   ],
   "source": [
    "import re\n",
    "def tld(s):\n",
    "    p= re.split('\\.',s)\n",
    "    return p[-1]   \n",
    "df_trial = Data.iloc[:,]\n",
    "df_trial['tld']= df_trial['tld'].apply(tld)\n",
    "df_trial['tld'].replace({'edu':'cn'},inplace=True)\n",
    "df_trial= df_trial.groupby('tld').filter(lambda x : len(x)>100)\n",
    "fig=plt.figure(figsize=(20,10))\n",
    "ax = sns.countplot(x='tld',data=df_trial,hue='label',\n",
    "                   order=df_trial['tld'].value_counts().index)\n",
    "ax.set_xticklabels(ax.get_xticklabels(),rotation=90, ha=\"right\",fontsize=14)\n",
    "plt.title('Top Level Domain Names', fontsize=14, fontweight='bold')\n",
    "ax.legend(loc='upper right',fontsize=16)\n",
    "plt.xlabel('TLD',fontsize=16)\n",
    "plt.ylabel('Count',fontsize=16)\n",
    "ax.set_yscale(\"log\")\n",
    "plt.show()"
   ]
  },
  {
   "cell_type": "markdown",
   "metadata": {},
   "source": [
    "## From Above char we can see how many bad and good pages for top level domains"
   ]
  },
  {
   "cell_type": "code",
   "execution_count": 18,
   "metadata": {},
   "outputs": [],
   "source": [
    "Data['tld'] = Data['tld'] .astype('category')\n",
    "Data['tld'] = Data['tld'].cat.codes"
   ]
  },
  {
   "cell_type": "code",
   "execution_count": 19,
   "metadata": {
    "scrolled": true
   },
   "outputs": [
    {
     "name": "stdout",
     "output_type": "stream",
     "text": [
      "<class 'pandas.core.frame.DataFrame'>\n",
      "Int64Index: 9933 entries, 0 to 9998\n",
      "Data columns (total 10 columns):\n",
      " #   Column      Non-Null Count  Dtype  \n",
      "---  ------      --------------  -----  \n",
      " 0   url_len     9933 non-null   int64  \n",
      " 1   url         9933 non-null   object \n",
      " 2   ip_add      9933 non-null   object \n",
      " 3   geo_loc     9933 non-null   int16  \n",
      " 4   tld         9933 non-null   int16  \n",
      " 5   who_is      9933 non-null   int32  \n",
      " 6   https       9933 non-null   int32  \n",
      " 7   js_len      9933 non-null   float64\n",
      " 8   js_obf_len  9933 non-null   float64\n",
      " 9   label       9933 non-null   object \n",
      "dtypes: float64(2), int16(2), int32(2), int64(1), object(3)\n",
      "memory usage: 659.6+ KB\n"
     ]
    }
   ],
   "source": [
    "Data.info()"
   ]
  },
  {
   "cell_type": "code",
   "execution_count": 20,
   "metadata": {},
   "outputs": [],
   "source": [
    "# Now after cleanning and encoding, the data ready to be trainng on the model"
   ]
  },
  {
   "cell_type": "code",
   "execution_count": 21,
   "metadata": {},
   "outputs": [
    {
     "data": {
      "text/html": [
       "<div>\n",
       "<style scoped>\n",
       "    .dataframe tbody tr th:only-of-type {\n",
       "        vertical-align: middle;\n",
       "    }\n",
       "\n",
       "    .dataframe tbody tr th {\n",
       "        vertical-align: top;\n",
       "    }\n",
       "\n",
       "    .dataframe thead th {\n",
       "        text-align: right;\n",
       "    }\n",
       "</style>\n",
       "<table border=\"1\" class=\"dataframe\">\n",
       "  <thead>\n",
       "    <tr style=\"text-align: right;\">\n",
       "      <th></th>\n",
       "      <th>url_len</th>\n",
       "      <th>url</th>\n",
       "      <th>ip_add</th>\n",
       "      <th>geo_loc</th>\n",
       "      <th>tld</th>\n",
       "      <th>who_is</th>\n",
       "      <th>https</th>\n",
       "      <th>js_len</th>\n",
       "      <th>js_obf_len</th>\n",
       "      <th>label</th>\n",
       "    </tr>\n",
       "  </thead>\n",
       "  <tbody>\n",
       "    <tr>\n",
       "      <th>9994</th>\n",
       "      <td>47</td>\n",
       "      <td>http://www.billybear4kids.com/holidays/valenti...</td>\n",
       "      <td>183.30.162.103</td>\n",
       "      <td>25</td>\n",
       "      <td>39</td>\n",
       "      <td>1</td>\n",
       "      <td>1</td>\n",
       "      <td>739.8</td>\n",
       "      <td>399.492</td>\n",
       "      <td>bad</td>\n",
       "    </tr>\n",
       "    <tr>\n",
       "      <th>9995</th>\n",
       "      <td>26</td>\n",
       "      <td>http://www.mynevadacounty.com/sheriff/</td>\n",
       "      <td>72.232.194.198</td>\n",
       "      <td>130</td>\n",
       "      <td>39</td>\n",
       "      <td>1</td>\n",
       "      <td>1</td>\n",
       "      <td>610.2</td>\n",
       "      <td>475.956</td>\n",
       "      <td>bad</td>\n",
       "    </tr>\n",
       "    <tr>\n",
       "      <th>9996</th>\n",
       "      <td>46</td>\n",
       "      <td>http://guitar.about.com/library/weekly/aa10100...</td>\n",
       "      <td>87.36.244.101</td>\n",
       "      <td>57</td>\n",
       "      <td>39</td>\n",
       "      <td>1</td>\n",
       "      <td>1</td>\n",
       "      <td>531.0</td>\n",
       "      <td>260.190</td>\n",
       "      <td>bad</td>\n",
       "    </tr>\n",
       "    <tr>\n",
       "      <th>9997</th>\n",
       "      <td>24</td>\n",
       "      <td>http://www.languatek.com/</td>\n",
       "      <td>124.99.36.245</td>\n",
       "      <td>62</td>\n",
       "      <td>39</td>\n",
       "      <td>1</td>\n",
       "      <td>1</td>\n",
       "      <td>726.3</td>\n",
       "      <td>421.254</td>\n",
       "      <td>bad</td>\n",
       "    </tr>\n",
       "    <tr>\n",
       "      <th>9998</th>\n",
       "      <td>55</td>\n",
       "      <td>http://www.fansoflobo.com/</td>\n",
       "      <td>93.45.8.46</td>\n",
       "      <td>60</td>\n",
       "      <td>39</td>\n",
       "      <td>1</td>\n",
       "      <td>1</td>\n",
       "      <td>525.6</td>\n",
       "      <td>315.360</td>\n",
       "      <td>good</td>\n",
       "    </tr>\n",
       "  </tbody>\n",
       "</table>\n",
       "</div>"
      ],
      "text/plain": [
       "      url_len                                                url  \\\n",
       "9994       47  http://www.billybear4kids.com/holidays/valenti...   \n",
       "9995       26             http://www.mynevadacounty.com/sheriff/   \n",
       "9996       46  http://guitar.about.com/library/weekly/aa10100...   \n",
       "9997       24                          http://www.languatek.com/   \n",
       "9998       55                         http://www.fansoflobo.com/   \n",
       "\n",
       "              ip_add  geo_loc  tld  who_is  https  js_len  js_obf_len label  \n",
       "9994  183.30.162.103       25   39       1      1   739.8     399.492   bad  \n",
       "9995  72.232.194.198      130   39       1      1   610.2     475.956   bad  \n",
       "9996   87.36.244.101       57   39       1      1   531.0     260.190   bad  \n",
       "9997   124.99.36.245       62   39       1      1   726.3     421.254   bad  \n",
       "9998      93.45.8.46       60   39       1      1   525.6     315.360  good  "
      ]
     },
     "execution_count": 21,
     "metadata": {},
     "output_type": "execute_result"
    }
   ],
   "source": [
    "Data.tail()"
   ]
  },
  {
   "cell_type": "markdown",
   "metadata": {},
   "source": [
    "-----------------"
   ]
  },
  {
   "cell_type": "markdown",
   "metadata": {},
   "source": [
    "# Data visualization"
   ]
  },
  {
   "cell_type": "markdown",
   "metadata": {},
   "source": [
    "# Pie Chart"
   ]
  },
  {
   "cell_type": "code",
   "execution_count": 22,
   "metadata": {},
   "outputs": [
    {
     "data": {
      "image/png": "[encoded data removed]",
      "text/plain": [
       "<Figure size 1080x360 with 1 Axes>"
      ]
     },
     "metadata": {},
     "output_type": "display_data"
    }
   ],
   "source": [
    "# Pie Chart of Malicious and Benign Webpages Distribution\n",
    "labels = Data['label'].value_counts()\n",
    "x =(list(labels.index), list(labels.values))\n",
    "fig = plt.figure(figsize = (15,5))\n",
    "Explode = [0,0.1]\n",
    "plt.pie(x[1],labels=x[0],shadow=False,startangle=45,\n",
    "        colors=['green','red'],autopct='%.2f%%',textprops={'fontsize': 15})\n",
    "plt.axis('equal')\n",
    "plt.legend(title='Percentage of good and bad webpages')\n",
    "plt.show()"
   ]
  },
  {
   "cell_type": "markdown",
   "metadata": {},
   "source": [
    "### As we can see from above visualisation of pie chart, this dataset has two class, Good and bad. approximatlay quarter  of the results is belong to bad pages\n",
    "\n",
    "### the  dataset has significant class imbalance. So, during the machine learning process, we need to handle  this imbalance in order to get accurate results¶"
   ]
  },
  {
   "cell_type": "markdown",
   "metadata": {},
   "source": [
    "# Heat map"
   ]
  },
  {
   "cell_type": "code",
   "execution_count": 23,
   "metadata": {
    "scrolled": true
   },
   "outputs": [
    {
     "data": {
      "image/png": "[encoded data removed]",
      "text/plain": [
       "<Figure size 576x432 with 2 Axes>"
      ]
     },
     "metadata": {
      "needs_background": "light"
     },
     "output_type": "display_data"
    }
   ],
   "source": [
    "f, ax = plt.subplots(figsize=(8, 6))\n",
    "corr = Data[['url_len','js_len','js_obf_len']].corr()\n",
    "hm = sns.heatmap(round(corr,2), annot=True, ax=ax, cmap=\"coolwarm\",fmt='.2f',linewidths=.05)\n",
    "t= f.suptitle('Correlation Heat map of Numerical Attributes', fontsize=8)"
   ]
  },
  {
   "cell_type": "markdown",
   "metadata": {},
   "source": [
    "#### From Above heat map, we see clearly 'js_len' and 'js_obf_len' are highly correlated and  very important feature in bulding the model"
   ]
  },
  {
   "cell_type": "markdown",
   "metadata": {},
   "source": [
    "## Logistic Regression "
   ]
  },
  {
   "cell_type": "markdown",
   "metadata": {},
   "source": [
    "### Model Training"
   ]
  },
  {
   "cell_type": "code",
   "execution_count": 25,
   "metadata": {},
   "outputs": [],
   "source": [
    "from sklearn.linear_model import LogisticRegression\n",
    "from sklearn.model_selection import train_test_split\n",
    "from sklearn.metrics import confusion_matrix\n",
    "from sklearn.metrics import classification_report"
   ]
  },
  {
   "cell_type": "code",
   "execution_count": 32,
   "metadata": {},
   "outputs": [
    {
     "name": "stdout",
     "output_type": "stream",
     "text": [
      "Original dataset shape Counter({'url_len': 1, 'geo_loc': 1, 'tld': 1, 'who_is': 1, 'https': 1, 'js_len': 1})\n",
      "Resample dataset shape Counter({'bad': 7821, 'good': 7821})\n"
     ]
    }
   ],
   "source": [
    "\n",
    "# as i mentioned above that the data is imbalanced, we need a way to handle this issue.\n",
    "# RandomUnderSampler is a fast and easy way to balance the data by randomly selecting a subset of data for the targeted classes. \n",
    "#Under-sample the majority class(es) by randomly picking samples with or without replacement.\n",
    "\n",
    "\n",
    "\n",
    "from collections import Counter\n",
    "from imblearn import under_sampling, over_sampling\n",
    "from imblearn.under_sampling import RandomUnderSampler\n",
    "from imblearn.over_sampling import RandomOverSampler \n",
    "from imblearn.over_sampling import SMOTE\n",
    "ros = RandomOverSampler(random_state=42)\n",
    "\n",
    "x,y= ros.fit_resample(Data[['url_len','geo_loc','tld','who_is','https','js_len']], Data['label'])\n",
    "\n",
    "print('Original dataset shape', Counter(x))\n",
    "print('Resample dataset shape', Counter(y))"
   ]
  },
  {
   "cell_type": "code",
   "execution_count": 33,
   "metadata": {},
   "outputs": [
    {
     "data": {
      "text/html": [
       "<div>\n",
       "<style scoped>\n",
       "    .dataframe tbody tr th:only-of-type {\n",
       "        vertical-align: middle;\n",
       "    }\n",
       "\n",
       "    .dataframe tbody tr th {\n",
       "        vertical-align: top;\n",
       "    }\n",
       "\n",
       "    .dataframe thead th {\n",
       "        text-align: right;\n",
       "    }\n",
       "</style>\n",
       "<table border=\"1\" class=\"dataframe\">\n",
       "  <thead>\n",
       "    <tr style=\"text-align: right;\">\n",
       "      <th></th>\n",
       "      <th>url_len</th>\n",
       "      <th>url</th>\n",
       "      <th>ip_add</th>\n",
       "      <th>geo_loc</th>\n",
       "      <th>tld</th>\n",
       "      <th>who_is</th>\n",
       "      <th>https</th>\n",
       "      <th>js_len</th>\n",
       "      <th>js_obf_len</th>\n",
       "      <th>label</th>\n",
       "    </tr>\n",
       "  </thead>\n",
       "  <tbody>\n",
       "    <tr>\n",
       "      <th>0</th>\n",
       "      <td>32</td>\n",
       "      <td>http://members.tripod.com/russiastation/</td>\n",
       "      <td>211.229.153.97</td>\n",
       "      <td>112</td>\n",
       "      <td>39</td>\n",
       "      <td>1</td>\n",
       "      <td>0</td>\n",
       "      <td>47.0</td>\n",
       "      <td>0.0</td>\n",
       "      <td>bad</td>\n",
       "    </tr>\n",
       "    <tr>\n",
       "      <th>1</th>\n",
       "      <td>37</td>\n",
       "      <td>http://www.ddj.com/cpp/184403822</td>\n",
       "      <td>161.11.77.63</td>\n",
       "      <td>130</td>\n",
       "      <td>39</td>\n",
       "      <td>0</td>\n",
       "      <td>0</td>\n",
       "      <td>117.0</td>\n",
       "      <td>0.0</td>\n",
       "      <td>good</td>\n",
       "    </tr>\n",
       "    <tr>\n",
       "      <th>3</th>\n",
       "      <td>25</td>\n",
       "      <td>http://www.ff-b2b.de/</td>\n",
       "      <td>50.138.83.15</td>\n",
       "      <td>108</td>\n",
       "      <td>39</td>\n",
       "      <td>0</td>\n",
       "      <td>1</td>\n",
       "      <td>166.0</td>\n",
       "      <td>0.0</td>\n",
       "      <td>good</td>\n",
       "    </tr>\n",
       "    <tr>\n",
       "      <th>4</th>\n",
       "      <td>29</td>\n",
       "      <td>http://us.imdb.com/title/tt0176269/</td>\n",
       "      <td>201.29.133.18</td>\n",
       "      <td>117</td>\n",
       "      <td>39</td>\n",
       "      <td>0</td>\n",
       "      <td>0</td>\n",
       "      <td>127.5</td>\n",
       "      <td>0.0</td>\n",
       "      <td>bad</td>\n",
       "    </tr>\n",
       "    <tr>\n",
       "      <th>5</th>\n",
       "      <td>25</td>\n",
       "      <td>http://efilmcritic.com/hbs.cgi?movie=311</td>\n",
       "      <td>148.7.184.189</td>\n",
       "      <td>95</td>\n",
       "      <td>39</td>\n",
       "      <td>0</td>\n",
       "      <td>0</td>\n",
       "      <td>42.5</td>\n",
       "      <td>0.0</td>\n",
       "      <td>bad</td>\n",
       "    </tr>\n",
       "  </tbody>\n",
       "</table>\n",
       "</div>"
      ],
      "text/plain": [
       "   url_len                                       url          ip_add  geo_loc  \\\n",
       "0       32  http://members.tripod.com/russiastation/  211.229.153.97      112   \n",
       "1       37          http://www.ddj.com/cpp/184403822    161.11.77.63      130   \n",
       "3       25                     http://www.ff-b2b.de/    50.138.83.15      108   \n",
       "4       29       http://us.imdb.com/title/tt0176269/   201.29.133.18      117   \n",
       "5       25  http://efilmcritic.com/hbs.cgi?movie=311   148.7.184.189       95   \n",
       "\n",
       "   tld  who_is  https  js_len  js_obf_len label  \n",
       "0   39       1      0    47.0         0.0   bad  \n",
       "1   39       0      0   117.0         0.0  good  \n",
       "3   39       0      1   166.0         0.0  good  \n",
       "4   39       0      0   127.5         0.0   bad  \n",
       "5   39       0      0    42.5         0.0   bad  "
      ]
     },
     "execution_count": 33,
     "metadata": {},
     "output_type": "execute_result"
    }
   ],
   "source": [
    "Data.head()"
   ]
  },
  {
   "cell_type": "code",
   "execution_count": 34,
   "metadata": {},
   "outputs": [],
   "source": [
    "x_train, x_test, y_train, y_test = train_test_split(Data[['url_len','geo_loc','tld','who_is','https','js_len']],Data['label'], test_size=0.20, random_state=0,shuffle =True)"
   ]
  },
  {
   "cell_type": "code",
   "execution_count": 35,
   "metadata": {},
   "outputs": [
    {
     "data": {
      "text/plain": [
       "LogisticRegression()"
      ]
     },
     "execution_count": 35,
     "metadata": {},
     "output_type": "execute_result"
    }
   ],
   "source": [
    "lg = LogisticRegression()\n",
    "lg.fit(x_train, y_train)"
   ]
  },
  {
   "cell_type": "markdown",
   "metadata": {},
   "source": [
    "### Model Validation"
   ]
  },
  {
   "cell_type": "code",
   "execution_count": 36,
   "metadata": {},
   "outputs": [
    {
     "name": "stdout",
     "output_type": "stream",
     "text": [
      "Accuracy of logistic regression classifier: 0.96\n"
     ]
    }
   ],
   "source": [
    "lg_y_predict = lg.predict(x_test)\n",
    "print('Accuracy of logistic regression classifier: {:.2f}'.format(lg.score(x_test, y_test)))"
   ]
  },
  {
   "cell_type": "code",
   "execution_count": 38,
   "metadata": {
    "scrolled": false
   },
   "outputs": [
    {
     "name": "stdout",
     "output_type": "stream",
     "text": [
      "[[ 357   87]\n",
      " [   2 1541]]\n"
     ]
    },
    {
     "data": {
      "image/png": "[encoded data removed]",
      "text/plain": [
       "<Figure size 576x432 with 2 Axes>"
      ]
     },
     "metadata": {
      "needs_background": "light"
     },
     "output_type": "display_data"
    }
   ],
   "source": [
    "from sklearn.metrics import confusion_matrix\n",
    "confusion_matrix = confusion_matrix(y_test, lg_y_predict)\n",
    "print(confusion_matrix)\n",
    "\n",
    "# Plotting the confusion matrix\n",
    "cfm= confusion_matrix\n",
    "lbl1=[\"Predicted Negative\", \"Predicted Positive\"]\n",
    "lbl2=[\"Actual Negative\", \"Actual Poistive\"]\n",
    "fig, ax = plt.subplots(figsize=(8,6))\n",
    "sns.heatmap(cfm, annot=True, cmap=\"Blues\", fmt=\"d\", xticklabels=lbl1, yticklabels=lbl2)\n",
    "ax.set_ylim([0,2])\n",
    "plt.show()"
   ]
  },
  {
   "cell_type": "markdown",
   "metadata": {},
   "source": [
    "## From above confusion matrix i can see my model doing good in  prediction\n",
    "## type error 1 (FP) and type error 2 (FN) is very small"
   ]
  },
  {
   "cell_type": "code",
   "execution_count": 39,
   "metadata": {},
   "outputs": [
    {
     "name": "stdout",
     "output_type": "stream",
     "text": [
      "              precision    recall  f1-score   support\n",
      "\n",
      "         bad       0.99      0.80      0.89       444\n",
      "        good       0.95      1.00      0.97      1543\n",
      "\n",
      "    accuracy                           0.96      1987\n",
      "   macro avg       0.97      0.90      0.93      1987\n",
      "weighted avg       0.96      0.96      0.95      1987\n",
      "\n"
     ]
    }
   ],
   "source": [
    "print(classification_report(y_test, lg_y_predict))"
   ]
  },
  {
   "cell_type": "markdown",
   "metadata": {},
   "source": [
    "## the logestic regression has an accuracy of 0.96 and F1 score of 0.89 for bad class and 0.97 for good class \n",
    "## this result is very good and the model is performing well"
   ]
  },
  {
   "cell_type": "markdown",
   "metadata": {},
   "source": [
    "## Random Forest"
   ]
  },
  {
   "cell_type": "markdown",
   "metadata": {},
   "source": [
    "### Model Training"
   ]
  },
  {
   "cell_type": "code",
   "execution_count": 40,
   "metadata": {},
   "outputs": [],
   "source": [
    "from sklearn.ensemble import RandomForestClassifier\n",
    "from sklearn import metrics"
   ]
  },
  {
   "cell_type": "code",
   "execution_count": 41,
   "metadata": {},
   "outputs": [],
   "source": [
    "X_train, X_test, Y_train, Y_test = train_test_split(Data[['url_len','geo_loc','tld','who_is','https','js_len']],Data['label'], test_size=0.20, random_state=0,shuffle =True)"
   ]
  },
  {
   "cell_type": "code",
   "execution_count": 42,
   "metadata": {},
   "outputs": [],
   "source": [
    "clf = RandomForestClassifier(n_estimators=100)\n",
    "\n",
    "clf.fit(x_train,Y_train)\n",
    "\n",
    "# prediction on test set\n",
    "RF_y_predict=clf.predict(X_test)"
   ]
  },
  {
   "cell_type": "markdown",
   "metadata": {},
   "source": [
    "### Model Validation"
   ]
  },
  {
   "cell_type": "code",
   "execution_count": 43,
   "metadata": {},
   "outputs": [
    {
     "name": "stdout",
     "output_type": "stream",
     "text": [
      "Accuracy of Random Forest classifier : 0.9637644690488173\n"
     ]
    }
   ],
   "source": [
    "print(\"Accuracy of Random Forest classifier :\",metrics.accuracy_score(Y_test, RF_y_predict))"
   ]
  },
  {
   "cell_type": "code",
   "execution_count": 47,
   "metadata": {
    "scrolled": false
   },
   "outputs": [
    {
     "name": "stdout",
     "output_type": "stream",
     "text": [
      "[[ 377   67]\n",
      " [   5 1538]]\n"
     ]
    },
    {
     "data": {
      "image/png": "[encoded data removed]",
      "text/plain": [
       "<Figure size 576x432 with 2 Axes>"
      ]
     },
     "metadata": {
      "needs_background": "light"
     },
     "output_type": "display_data"
    }
   ],
   "source": [
    "from sklearn.metrics import confusion_matrix\n",
    "confusion_matrix = confusion_matrix(Y_test, RF_y_predict)\n",
    "print(confusion_matrix)\n",
    "\n",
    "# Plotting the confusion matrix\n",
    "cfm= confusion_matrix\n",
    "lbl1=[\"Predicted Negative\", \"Predicted Positive\"]\n",
    "lbl2=[\"Actual Negative\", \"Actual Poistive\"]\n",
    "fig, ax = plt.subplots(figsize=(8,6))\n",
    "sns.heatmap(cfm, annot=True, cmap=\"Blues\", fmt=\"d\", xticklabels=lbl1, yticklabels=lbl2)\n",
    "ax.set_ylim([0,2])\n",
    "plt.show()"
   ]
  },
  {
   "cell_type": "markdown",
   "metadata": {},
   "source": [
    "## From above confusion matrix for the second model i build, i can see my model is doing  good as well in  prediction\n",
    "## type error 1 (FP) and type error 2 (FN) is very small"
   ]
  },
  {
   "cell_type": "code",
   "execution_count": 45,
   "metadata": {},
   "outputs": [
    {
     "name": "stdout",
     "output_type": "stream",
     "text": [
      "              precision    recall  f1-score   support\n",
      "\n",
      "         bad       0.99      0.85      0.91       444\n",
      "        good       0.96      1.00      0.98      1543\n",
      "\n",
      "    accuracy                           0.96      1987\n",
      "   macro avg       0.97      0.92      0.94      1987\n",
      "weighted avg       0.96      0.96      0.96      1987\n",
      "\n"
     ]
    }
   ],
   "source": [
    "print(metrics.classification_report(Y_test, RF_y_predict))"
   ]
  },
  {
   "cell_type": "markdown",
   "metadata": {},
   "source": [
    "## the Random Forest has an accuracy of 0.96 and F1 score of 0.91 for bad class and 0.98 for good class\n",
    "## this result is very good and the model is performing well"
   ]
  },
  {
   "cell_type": "markdown",
   "metadata": {},
   "source": [
    "# Conclusion"
   ]
  },
  {
   "cell_type": "markdown",
   "metadata": {},
   "source": [
    "## The evaluation using Random Forest Classifier and logistic regression gives good result in term of accuracy. but in classification_report that show us the other evaluation measures , the random forest is better than logistic regression \n",
    "\n",
    "## in overall both model performing well and give us excellent result"
   ]
  },
  {
   "cell_type": "markdown",
   "metadata": {},
   "source": [
    "--------------------\n",
    "\n",
    "thank you "
   ]
  }
 ],
 "metadata": {
  "kernelspec": {
   "display_name": "Python 3",
   "language": "python",
   "name": "python3"
  },
  "language_info": {
   "codemirror_mode": {
    "name": "ipython",
    "version": 3
   },
   "file_extension": ".py",
   "mimetype": "text/x-python",
   "name": "python",
   "nbconvert_exporter": "python",
   "pygments_lexer": "ipython3",
   "version": "3.8.5"
  }
 },
 "nbformat": 4,
 "nbformat_minor": 4
}
