{
 "cells": [
  {
   "cell_type": "markdown",
   "metadata": {},
   "source": [
    "# <font  size=\"6\" color='7A4CDE'> <b>Detecting Malicious and Benign Webpages </b></font> "
   ]
  },
  {
   "cell_type": "markdown",
   "metadata": {},
   "source": [
    "\n",
    "------------------\n",
    "<font  size=\"6\" color='7A4CDE'> <b>Overview </b></font> \n",
    "\n",
    "The goal of this project is to determine which pages that may be malicious based on the features of each pages. To achieving this goal, i started by loading the data to start understanded and do some cleaning and looking for which factors are most important in order to best classify pages,Also doing some visualization like heat map and pie chart to gain further insight.\n",
    "\n",
    "\n",
    "plase open the file in jupyter nootbook to see it in full formate\n",
    "\n",
    "--------------\n"
   ]
  },
  {
   "cell_type": "markdown",
   "metadata": {},
   "source": [
    "\n",
    "<font  size=\"4\" color='7A4CDE'> <b>Attributes of My Dataset </b></font> \n",
    "\n",
    "<font  size=\"2\" color='7A4CDE'>1.</font>   <font  size=\"2\" color='black'> url: URL of the Webpage.\n",
    "    </font>\t\n",
    "\n",
    "<font  size=\"2\" color='7A4CDE'> 2.</font>   <font  size=\"2\" color='black'> url_len: Length of URL (count of characters in a URL).</font>\t\n",
    "\n",
    "<font  size=\"2\" color='7A4CDE'> 3.</font>   <font  size=\"2\" color='black'>ip_add: IP Address of the webpage.</font>\t\n",
    "\n",
    "<font  size=\"2\" color='7A4CDE'> 4.</font>   <font  size=\"2\" color='black'> geo_loc: Name of the country based on IP Address location.</font>\t\n",
    "\n",
    "<font  size=\"2\" color='7A4CDE'> 5.</font>   <font  size=\"2\" color='black'> tld: Top Level Domain of the webpage.</font>\t\n",
    "\n",
    "<font  size=\"2\" color='7A4CDE'> 6.</font>   <font  size=\"2\" color='black'> who_is: Gives out whether the WHO IS information of the registered domain is complete or incomplete.</font>\t\n",
    "\n",
    "<font  size=\"2\" color='7A4CDE'> 7.</font>   <font  size=\"2\" color='black'> https:\tGives out whether the website uses https or http protocol.</font>\t\n",
    "\n",
    "<font  size=\"2\" color='7A4CDE'> 8.</font>   <font  size=\"2\" color='black'> js_len: Length of JavaScript code (in KB) in the webpage.</font>\t\n",
    "\n",
    "<font  size=\"2\" color='7A4CDE'> 9.</font>   <font  size=\"2\" color='black'> js_obf_len: Length of Obfuscated JavaScript (in KB) in the webpage.</font>\t\n",
    "\n",
    "\n",
    "<font  size=\"2\" color='7A4CDE'> 10.</font>   <font  size=\"2\" color='black'> label: Classification label categorizing the webpage class as Malicious (bad) or Benign (good).</font>\t\n",
    "\n",
    "-----------------------------------"
   ]
  },
  {
   "cell_type": "code",
   "execution_count": 58,
   "metadata": {},
   "outputs": [],
   "source": [
    "import pandas as pd\n",
    "import numpy as np\n",
    "import numpy as ps\n",
    "import matplotlib.pyplot as plt\n",
    "import seaborn as sns"
   ]
  },
  {
   "cell_type": "code",
   "execution_count": 101,
   "metadata": {
    "scrolled": true
   },
   "outputs": [],
   "source": [
    "Data = pd.read_excel(r\"C:\\Users\\96655\\Desktop\\MVP\\Webpages_Dataset.xlsx\")"
   ]
  },
  {
   "cell_type": "code",
   "execution_count": 102,
   "metadata": {},
   "outputs": [
    {
     "data": {
      "text/html": [
       "<div>\n",
       "<style scoped>\n",
       "    .dataframe tbody tr th:only-of-type {\n",
       "        vertical-align: middle;\n",
       "    }\n",
       "\n",
       "    .dataframe tbody tr th {\n",
       "        vertical-align: top;\n",
       "    }\n",
       "\n",
       "    .dataframe thead th {\n",
       "        text-align: right;\n",
       "    }\n",
       "</style>\n",
       "<table border=\"1\" class=\"dataframe\">\n",
       "  <thead>\n",
       "    <tr style=\"text-align: right;\">\n",
       "      <th></th>\n",
       "      <th>url</th>\n",
       "      <th>url_len</th>\n",
       "      <th>ip_add</th>\n",
       "      <th>geo_loc</th>\n",
       "      <th>tld</th>\n",
       "      <th>who_is</th>\n",
       "      <th>https</th>\n",
       "      <th>js_len</th>\n",
       "      <th>js_obf_len</th>\n",
       "      <th>label</th>\n",
       "    </tr>\n",
       "  </thead>\n",
       "  <tbody>\n",
       "    <tr>\n",
       "      <th>0</th>\n",
       "      <td>http://www.yusheng-wiremesh.com/</td>\n",
       "      <td>32</td>\n",
       "      <td>211.229.153.97</td>\n",
       "      <td>South Korea</td>\n",
       "      <td>com</td>\n",
       "      <td>incomplete</td>\n",
       "      <td>yes</td>\n",
       "      <td>47.0</td>\n",
       "      <td>0.0</td>\n",
       "      <td>good</td>\n",
       "    </tr>\n",
       "    <tr>\n",
       "      <th>1</th>\n",
       "      <td>http://www.sunandmoonacupuncture.com/</td>\n",
       "      <td>37</td>\n",
       "      <td>161.11.77.63</td>\n",
       "      <td>United States</td>\n",
       "      <td>com</td>\n",
       "      <td>complete</td>\n",
       "      <td>yes</td>\n",
       "      <td>117.0</td>\n",
       "      <td>0.0</td>\n",
       "      <td>good</td>\n",
       "    </tr>\n",
       "    <tr>\n",
       "      <th>2</th>\n",
       "      <td>http://www.cheatscodesguides.com/playstation-2...</td>\n",
       "      <td>70</td>\n",
       "      <td>210.198.43.183</td>\n",
       "      <td>NaN</td>\n",
       "      <td>com</td>\n",
       "      <td>incomplete</td>\n",
       "      <td>yes</td>\n",
       "      <td>144.0</td>\n",
       "      <td>0.0</td>\n",
       "      <td>good</td>\n",
       "    </tr>\n",
       "    <tr>\n",
       "      <th>3</th>\n",
       "      <td>http://www.bhg.com/home/salad-recipes.html</td>\n",
       "      <td>42</td>\n",
       "      <td>50.138.83.15</td>\n",
       "      <td>United States</td>\n",
       "      <td>com</td>\n",
       "      <td>complete</td>\n",
       "      <td>yes</td>\n",
       "      <td>72.5</td>\n",
       "      <td>0.0</td>\n",
       "      <td>good</td>\n",
       "    </tr>\n",
       "    <tr>\n",
       "      <th>4</th>\n",
       "      <td>http://www.sacred-texts.com/aus/peck/</td>\n",
       "      <td>37</td>\n",
       "      <td>201.29.133.18</td>\n",
       "      <td>Brazil</td>\n",
       "      <td>com</td>\n",
       "      <td>complete</td>\n",
       "      <td>yes</td>\n",
       "      <td>59.0</td>\n",
       "      <td>0.0</td>\n",
       "      <td>good</td>\n",
       "    </tr>\n",
       "  </tbody>\n",
       "</table>\n",
       "</div>"
      ],
      "text/plain": [
       "                                                 url  url_len          ip_add  \\\n",
       "0                   http://www.yusheng-wiremesh.com/       32  211.229.153.97   \n",
       "1              http://www.sunandmoonacupuncture.com/       37    161.11.77.63   \n",
       "2  http://www.cheatscodesguides.com/playstation-2...       70  210.198.43.183   \n",
       "3         http://www.bhg.com/home/salad-recipes.html       42    50.138.83.15   \n",
       "4              http://www.sacred-texts.com/aus/peck/       37   201.29.133.18   \n",
       "\n",
       "         geo_loc  tld      who_is https  js_len  js_obf_len label  \n",
       "0    South Korea  com  incomplete   yes    47.0         0.0  good  \n",
       "1  United States  com    complete   yes   117.0         0.0  good  \n",
       "2            NaN  com  incomplete   yes   144.0         0.0  good  \n",
       "3  United States  com    complete   yes    72.5         0.0  good  \n",
       "4         Brazil  com    complete   yes    59.0         0.0  good  "
      ]
     },
     "execution_count": 102,
     "metadata": {},
     "output_type": "execute_result"
    }
   ],
   "source": [
    "## Observe the data to make sure it is properly loaded\n",
    "Data.head()"
   ]
  },
  {
   "cell_type": "code",
   "execution_count": 103,
   "metadata": {},
   "outputs": [
    {
     "name": "stdout",
     "output_type": "stream",
     "text": [
      "<class 'pandas.core.frame.DataFrame'>\n",
      "RangeIndex: 5000 entries, 0 to 4999\n",
      "Data columns (total 10 columns):\n",
      " #   Column      Non-Null Count  Dtype  \n",
      "---  ------      --------------  -----  \n",
      " 0   url         5000 non-null   object \n",
      " 1   url_len     5000 non-null   int64  \n",
      " 2   ip_add      5000 non-null   object \n",
      " 3   geo_loc     4934 non-null   object \n",
      " 4   tld         5000 non-null   object \n",
      " 5   who_is      5000 non-null   object \n",
      " 6   https       5000 non-null   object \n",
      " 7   js_len      5000 non-null   float64\n",
      " 8   js_obf_len  5000 non-null   float64\n",
      " 9   label       5000 non-null   object \n",
      "dtypes: float64(2), int64(1), object(7)\n",
      "memory usage: 390.8+ KB\n"
     ]
    }
   ],
   "source": [
    "# info give us summary of the date in glance\n",
    "# we can see we have 10 feature with 5000 data points, in colums geo_loc we have null value\n",
    "Data.info()"
   ]
  },
  {
   "cell_type": "code",
   "execution_count": 104,
   "metadata": {
    "scrolled": true
   },
   "outputs": [
    {
     "data": {
      "text/plain": [
       "good    3843\n",
       "bad     1157\n",
       "Name: label, dtype: int64"
      ]
     },
     "execution_count": 104,
     "metadata": {},
     "output_type": "execute_result"
    }
   ],
   "source": [
    "Data['label'].value_counts()"
   ]
  },
  {
   "cell_type": "markdown",
   "metadata": {},
   "source": [
    "-------------------"
   ]
  },
  {
   "cell_type": "code",
   "execution_count": 105,
   "metadata": {},
   "outputs": [
    {
     "data": {
      "text/plain": [
       "66"
      ]
     },
     "execution_count": 105,
     "metadata": {},
     "output_type": "execute_result"
    }
   ],
   "source": [
    "Data['geo_loc'].isnull().sum()"
   ]
  },
  {
   "cell_type": "markdown",
   "metadata": {},
   "source": [
    " in column <font  size=\"2\" color='7A4CDE'> geo_loc, </font> there are 66 rows with null value, in this situation, imputing it with mode is not preferred because it will make wrong information and since the number of null rows is not so much, dropping the entire rows is the best chose."
   ]
  },
  {
   "cell_type": "code",
   "execution_count": 106,
   "metadata": {},
   "outputs": [],
   "source": [
    "Data = Data[Data['geo_loc'].notna()]"
   ]
  },
  {
   "cell_type": "code",
   "execution_count": 107,
   "metadata": {
    "scrolled": false
   },
   "outputs": [
    {
     "name": "stdout",
     "output_type": "stream",
     "text": [
      "<class 'pandas.core.frame.DataFrame'>\n",
      "Int64Index: 4934 entries, 0 to 4999\n",
      "Data columns (total 10 columns):\n",
      " #   Column      Non-Null Count  Dtype  \n",
      "---  ------      --------------  -----  \n",
      " 0   url         4934 non-null   object \n",
      " 1   url_len     4934 non-null   int64  \n",
      " 2   ip_add      4934 non-null   object \n",
      " 3   geo_loc     4934 non-null   object \n",
      " 4   tld         4934 non-null   object \n",
      " 5   who_is      4934 non-null   object \n",
      " 6   https       4934 non-null   object \n",
      " 7   js_len      4934 non-null   float64\n",
      " 8   js_obf_len  4934 non-null   float64\n",
      " 9   label       4934 non-null   object \n",
      "dtypes: float64(2), int64(1), object(7)\n",
      "memory usage: 424.0+ KB\n"
     ]
    }
   ],
   "source": [
    "Data.info()"
   ]
  },
  {
   "cell_type": "markdown",
   "metadata": {},
   "source": [
    "-------------------------------------------"
   ]
  },
  {
   "cell_type": "code",
   "execution_count": 68,
   "metadata": {},
   "outputs": [
    {
     "data": {
      "text/html": [
       "<div>\n",
       "<style scoped>\n",
       "    .dataframe tbody tr th:only-of-type {\n",
       "        vertical-align: middle;\n",
       "    }\n",
       "\n",
       "    .dataframe tbody tr th {\n",
       "        vertical-align: top;\n",
       "    }\n",
       "\n",
       "    .dataframe thead th {\n",
       "        text-align: right;\n",
       "    }\n",
       "</style>\n",
       "<table border=\"1\" class=\"dataframe\">\n",
       "  <thead>\n",
       "    <tr style=\"text-align: right;\">\n",
       "      <th></th>\n",
       "      <th>url</th>\n",
       "      <th>url_len</th>\n",
       "      <th>ip_add</th>\n",
       "      <th>geo_loc</th>\n",
       "      <th>tld</th>\n",
       "      <th>who_is</th>\n",
       "      <th>https</th>\n",
       "      <th>js_len</th>\n",
       "      <th>js_obf_len</th>\n",
       "      <th>label</th>\n",
       "    </tr>\n",
       "  </thead>\n",
       "  <tbody>\n",
       "    <tr>\n",
       "      <th>0</th>\n",
       "      <td>http://www.yusheng-wiremesh.com/</td>\n",
       "      <td>32</td>\n",
       "      <td>211.229.153.97</td>\n",
       "      <td>South Korea</td>\n",
       "      <td>com</td>\n",
       "      <td>incomplete</td>\n",
       "      <td>yes</td>\n",
       "      <td>47.0</td>\n",
       "      <td>0.0</td>\n",
       "      <td>good</td>\n",
       "    </tr>\n",
       "    <tr>\n",
       "      <th>1</th>\n",
       "      <td>http://www.sunandmoonacupuncture.com/</td>\n",
       "      <td>37</td>\n",
       "      <td>161.11.77.63</td>\n",
       "      <td>United States</td>\n",
       "      <td>com</td>\n",
       "      <td>complete</td>\n",
       "      <td>yes</td>\n",
       "      <td>117.0</td>\n",
       "      <td>0.0</td>\n",
       "      <td>good</td>\n",
       "    </tr>\n",
       "    <tr>\n",
       "      <th>3</th>\n",
       "      <td>http://www.bhg.com/home/salad-recipes.html</td>\n",
       "      <td>42</td>\n",
       "      <td>50.138.83.15</td>\n",
       "      <td>United States</td>\n",
       "      <td>com</td>\n",
       "      <td>complete</td>\n",
       "      <td>yes</td>\n",
       "      <td>72.5</td>\n",
       "      <td>0.0</td>\n",
       "      <td>good</td>\n",
       "    </tr>\n",
       "    <tr>\n",
       "      <th>4</th>\n",
       "      <td>http://www.sacred-texts.com/aus/peck/</td>\n",
       "      <td>37</td>\n",
       "      <td>201.29.133.18</td>\n",
       "      <td>Brazil</td>\n",
       "      <td>com</td>\n",
       "      <td>complete</td>\n",
       "      <td>yes</td>\n",
       "      <td>59.0</td>\n",
       "      <td>0.0</td>\n",
       "      <td>good</td>\n",
       "    </tr>\n",
       "    <tr>\n",
       "      <th>5</th>\n",
       "      <td>http://www.csfixtures.com</td>\n",
       "      <td>25</td>\n",
       "      <td>148.7.184.189</td>\n",
       "      <td>Singapore</td>\n",
       "      <td>com</td>\n",
       "      <td>complete</td>\n",
       "      <td>no</td>\n",
       "      <td>166.0</td>\n",
       "      <td>0.0</td>\n",
       "      <td>good</td>\n",
       "    </tr>\n",
       "  </tbody>\n",
       "</table>\n",
       "</div>"
      ],
      "text/plain": [
       "                                          url  url_len          ip_add  \\\n",
       "0            http://www.yusheng-wiremesh.com/       32  211.229.153.97   \n",
       "1       http://www.sunandmoonacupuncture.com/       37    161.11.77.63   \n",
       "3  http://www.bhg.com/home/salad-recipes.html       42    50.138.83.15   \n",
       "4       http://www.sacred-texts.com/aus/peck/       37   201.29.133.18   \n",
       "5                   http://www.csfixtures.com       25   148.7.184.189   \n",
       "\n",
       "         geo_loc  tld      who_is https  js_len  js_obf_len label  \n",
       "0    South Korea  com  incomplete   yes    47.0         0.0  good  \n",
       "1  United States  com    complete   yes   117.0         0.0  good  \n",
       "3  United States  com    complete   yes    72.5         0.0  good  \n",
       "4         Brazil  com    complete   yes    59.0         0.0  good  \n",
       "5      Singapore  com    complete    no   166.0         0.0  good  "
      ]
     },
     "execution_count": 68,
     "metadata": {},
     "output_type": "execute_result"
    }
   ],
   "source": [
    "Data.head()"
   ]
  },
  {
   "cell_type": "markdown",
   "metadata": {},
   "source": [
    "the column <font  size=\"2\" color='7A4CDE'> url </font> is similar to <font  size=\"2\" color='7A4CDE'> ip_add </font>\n",
    "\n",
    "if we want to reach to any page, we can by any one of them, So we can drop the column url since we do not need it and it is hard to be process"
   ]
  },
  {
   "cell_type": "code",
   "execution_count": 108,
   "metadata": {},
   "outputs": [],
   "source": [
    "Data.drop(['url'], axis=1,inplace=True)"
   ]
  },
  {
   "cell_type": "markdown",
   "metadata": {},
   "source": [
    "-------------------------"
   ]
  },
  {
   "cell_type": "markdown",
   "metadata": {},
   "source": [
    "\n",
    "#### Since Machine learning algorithms can not handle categorical variables, we need to encoding them."
   ]
  },
  {
   "cell_type": "code",
   "execution_count": 109,
   "metadata": {},
   "outputs": [
    {
     "data": {
      "text/plain": [
       "array(['yes', 'no'], dtype=object)"
      ]
     },
     "execution_count": 109,
     "metadata": {},
     "output_type": "execute_result"
    }
   ],
   "source": [
    "Data[\"https\"].unique()"
   ]
  },
  {
   "cell_type": "code",
   "execution_count": 110,
   "metadata": {},
   "outputs": [],
   "source": [
    "Data['https']=np.where(Data['https']=='yes',0,1)"
   ]
  },
  {
   "cell_type": "markdown",
   "metadata": {},
   "source": [
    "Encoding the https Attribute\n",
    "\n",
    "0 if the website with http protocol.\n",
    "\n",
    "1 if the webpage with https protocol\n",
    "\n",
    "\n",
    "----------------------"
   ]
  },
  {
   "cell_type": "code",
   "execution_count": 111,
   "metadata": {},
   "outputs": [
    {
     "data": {
      "text/plain": [
       "array(['incomplete', 'complete'], dtype=object)"
      ]
     },
     "execution_count": 111,
     "metadata": {},
     "output_type": "execute_result"
    }
   ],
   "source": [
    "Data[\"who_is\"].unique()"
   ]
  },
  {
   "cell_type": "code",
   "execution_count": 112,
   "metadata": {},
   "outputs": [],
   "source": [
    "Data['who_is']=np.where(Data['who_is']=='complete',0,1)"
   ]
  },
  {
   "cell_type": "markdown",
   "metadata": {},
   "source": [
    "Encoding the who_is Attribute\n",
    "\n",
    "0 if information of the registered domain is complete.\n",
    "\n",
    "1 if information of the registered domain is incomplete\n",
    "\n"
   ]
  },
  {
   "cell_type": "markdown",
   "metadata": {},
   "source": [
    "#### \"geo_loc\" and \"tld\" will be encoding as well"
   ]
  },
  {
   "cell_type": "markdown",
   "metadata": {},
   "source": [
    "-----------------"
   ]
  },
  {
   "cell_type": "markdown",
   "metadata": {},
   "source": [
    "# Pie Chart"
   ]
  },
  {
   "cell_type": "code",
   "execution_count": 113,
   "metadata": {
    "scrolled": true
   },
   "outputs": [
    {
     "data": {
      "text/html": [
       "<div>\n",
       "<style scoped>\n",
       "    .dataframe tbody tr th:only-of-type {\n",
       "        vertical-align: middle;\n",
       "    }\n",
       "\n",
       "    .dataframe tbody tr th {\n",
       "        vertical-align: top;\n",
       "    }\n",
       "\n",
       "    .dataframe thead th {\n",
       "        text-align: right;\n",
       "    }\n",
       "</style>\n",
       "<table border=\"1\" class=\"dataframe\">\n",
       "  <thead>\n",
       "    <tr style=\"text-align: right;\">\n",
       "      <th></th>\n",
       "      <th>url_len</th>\n",
       "      <th>ip_add</th>\n",
       "      <th>geo_loc</th>\n",
       "      <th>tld</th>\n",
       "      <th>who_is</th>\n",
       "      <th>https</th>\n",
       "      <th>js_len</th>\n",
       "      <th>js_obf_len</th>\n",
       "      <th>label</th>\n",
       "    </tr>\n",
       "  </thead>\n",
       "  <tbody>\n",
       "    <tr>\n",
       "      <th>0</th>\n",
       "      <td>32</td>\n",
       "      <td>211.229.153.97</td>\n",
       "      <td>South Korea</td>\n",
       "      <td>com</td>\n",
       "      <td>1</td>\n",
       "      <td>0</td>\n",
       "      <td>47.0</td>\n",
       "      <td>0.0</td>\n",
       "      <td>good</td>\n",
       "    </tr>\n",
       "    <tr>\n",
       "      <th>1</th>\n",
       "      <td>37</td>\n",
       "      <td>161.11.77.63</td>\n",
       "      <td>United States</td>\n",
       "      <td>com</td>\n",
       "      <td>0</td>\n",
       "      <td>0</td>\n",
       "      <td>117.0</td>\n",
       "      <td>0.0</td>\n",
       "      <td>good</td>\n",
       "    </tr>\n",
       "    <tr>\n",
       "      <th>3</th>\n",
       "      <td>42</td>\n",
       "      <td>50.138.83.15</td>\n",
       "      <td>United States</td>\n",
       "      <td>com</td>\n",
       "      <td>0</td>\n",
       "      <td>0</td>\n",
       "      <td>72.5</td>\n",
       "      <td>0.0</td>\n",
       "      <td>good</td>\n",
       "    </tr>\n",
       "    <tr>\n",
       "      <th>4</th>\n",
       "      <td>37</td>\n",
       "      <td>201.29.133.18</td>\n",
       "      <td>Brazil</td>\n",
       "      <td>com</td>\n",
       "      <td>0</td>\n",
       "      <td>0</td>\n",
       "      <td>59.0</td>\n",
       "      <td>0.0</td>\n",
       "      <td>good</td>\n",
       "    </tr>\n",
       "    <tr>\n",
       "      <th>5</th>\n",
       "      <td>25</td>\n",
       "      <td>148.7.184.189</td>\n",
       "      <td>Singapore</td>\n",
       "      <td>com</td>\n",
       "      <td>0</td>\n",
       "      <td>1</td>\n",
       "      <td>166.0</td>\n",
       "      <td>0.0</td>\n",
       "      <td>good</td>\n",
       "    </tr>\n",
       "  </tbody>\n",
       "</table>\n",
       "</div>"
      ],
      "text/plain": [
       "   url_len          ip_add        geo_loc  tld  who_is  https  js_len  \\\n",
       "0       32  211.229.153.97    South Korea  com       1      0    47.0   \n",
       "1       37    161.11.77.63  United States  com       0      0   117.0   \n",
       "3       42    50.138.83.15  United States  com       0      0    72.5   \n",
       "4       37   201.29.133.18         Brazil  com       0      0    59.0   \n",
       "5       25   148.7.184.189      Singapore  com       0      1   166.0   \n",
       "\n",
       "   js_obf_len label  \n",
       "0         0.0  good  \n",
       "1         0.0  good  \n",
       "3         0.0  good  \n",
       "4         0.0  good  \n",
       "5         0.0  good  "
      ]
     },
     "execution_count": 113,
     "metadata": {},
     "output_type": "execute_result"
    }
   ],
   "source": [
    "Data.head()"
   ]
  },
  {
   "cell_type": "code",
   "execution_count": 114,
   "metadata": {},
   "outputs": [
    {
     "data": {
      "image/png": "[encoded data removed]",
      "text/plain": [
       "<Figure size 1080x360 with 1 Axes>"
      ]
     },
     "metadata": {},
     "output_type": "display_data"
    }
   ],
   "source": [
    "# Pie Chart of Malicious and Benign Webpages Distribution\n",
    "labels = Data['label'].value_counts()\n",
    "x =(list(labels.index), list(labels.values))\n",
    "fig = plt.figure(figsize = (15,5))\n",
    "Explode = [0,0.1]\n",
    "plt.pie(x[1],labels=x[0],shadow=False,startangle=45,\n",
    "        colors=['green','red'],autopct='%.2f%%',textprops={'fontsize': 15})\n",
    "plt.axis('equal')\n",
    "plt.legend(title='Percentage of good and bad webpages')\n",
    "plt.show()"
   ]
  },
  {
   "cell_type": "markdown",
   "metadata": {},
   "source": [
    "#### As we can see from above visualisation of pie chart, this dataset has two class, Good and bad. approximatlay quarter  of the results is belong to bad pages\n",
    "\n",
    "#### So this show us the important of bulding our model as many pages around as may contains malicious "
   ]
  },
  {
   "cell_type": "markdown",
   "metadata": {},
   "source": [
    "# Heat map"
   ]
  },
  {
   "cell_type": "code",
   "execution_count": 116,
   "metadata": {
    "scrolled": true
   },
   "outputs": [
    {
     "data": {
      "image/png": "[encoded data removed]",
      "text/plain": [
       "<Figure size 576x432 with 2 Axes>"
      ]
     },
     "metadata": {
      "needs_background": "light"
     },
     "output_type": "display_data"
    }
   ],
   "source": [
    "f, ax = plt.subplots(figsize=(8, 6))\n",
    "corr = Data[['url_len','js_len','js_obf_len','https','who_is']].corr()\n",
    "hm = sns.heatmap(round(corr,2), annot=True, ax=ax, cmap=\"coolwarm\",fmt='.2f',linewidths=.05)\n",
    "t= f.suptitle('Correlation Heat map of Numerical Attributes', fontsize=8)"
   ]
  },
  {
   "cell_type": "markdown",
   "metadata": {},
   "source": [
    "#### From Above heat map, we see clearly 'js_len' and 'js_obf_len' are highly correlated and  very important feature in bulding the model"
   ]
  },
  {
   "cell_type": "code",
   "execution_count": null,
   "metadata": {},
   "outputs": [],
   "source": []
  }
 ],
 "metadata": {
  "kernelspec": {
   "display_name": "Python 3",
   "language": "python",
   "name": "python3"
  },
  "language_info": {
   "codemirror_mode": {
    "name": "ipython",
    "version": 3
   },
   "file_extension": ".py",
   "mimetype": "text/x-python",
   "name": "python",
   "nbconvert_exporter": "python",
   "pygments_lexer": "ipython3",
   "version": "3.8.5"
  }
 },
 "nbformat": 4,
 "nbformat_minor": 4
}
